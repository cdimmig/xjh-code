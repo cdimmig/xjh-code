{
 "cells": [
  {
   "cell_type": "markdown",
   "id": "55abc74a",
   "metadata": {},
   "source": [
    "# basic package"
   ]
  },
  {
   "cell_type": "code",
   "execution_count": 1,
   "id": "9aa82fe1",
   "metadata": {},
   "outputs": [],
   "source": [
    "import argparse\n",
    "import os\n",
    "import time"
   ]
  },
  {
   "cell_type": "markdown",
   "id": "9f039cc3",
   "metadata": {},
   "source": [
    "# some other depedencies depend on project"
   ]
  },
  {
   "cell_type": "code",
   "execution_count": null,
   "id": "faa0454f",
   "metadata": {},
   "outputs": [],
   "source": [
    "# in this case the solver of thee project\n",
    "from cs285.infrastructure.rl_trainer import RL_Trainer\n",
    "\n",
    "\n",
    "from cs285.agents.bc_agent import BCAgent\n",
    "from cs285.policies.loaded_gaussian_policy import LoadedGaussianPolicy\n",
    "\n",
    "from mujoco_py import GlfwContext"
   ]
  },
  {
   "cell_type": "markdown",
   "id": "041038cc",
   "metadata": {},
   "source": [
    "# the following class is the main class of the project"
   ]
  },
  {
   "cell_type": "code",
   "execution_count": null,
   "id": "6de12e05",
   "metadata": {},
   "outputs": [],
   "source": [
    "class BC_Trainer(object):\n",
    "\n",
    "    def __init__(self, params):\n",
    "\n",
    "        #######################\n",
    "        ## AGENT PARAMS\n",
    "        #######################\n",
    "\n",
    "        agent_params = {\n",
    "            'n_layers': params['n_layers'],\n",
    "            'size': params['size'],\n",
    "            'learning_rate': params['learning_rate'],\n",
    "            'max_replay_buffer_size': params['max_replay_buffer_size'],\n",
    "            }\n",
    "\n",
    "        self.params = params\n",
    "        self.params['agent_class'] = BCAgent ## HW1: you will modify this\n",
    "        self.params['agent_params'] = agent_params\n",
    "\n",
    "        ################\n",
    "        ## RL TRAINER\n",
    "        ################\n",
    "\n",
    "        self.rl_trainer = RL_Trainer(self.params) ## HW1: you will modify this\n",
    "\n",
    "        #######################\n",
    "        ## LOAD EXPERT POLICY\n",
    "        #######################\n",
    "\n",
    "        print('Loading expert policy from...', self.params['expert_policy_file'])\n",
    "        self.loaded_expert_policy = LoadedGaussianPolicy(self.params['expert_policy_file'])\n",
    "        print('Done restoring expert policy...')\n",
    "\n",
    "    def run_training_loop(self):\n",
    "\n",
    "        self.rl_trainer.run_training_loop(\n",
    "            n_iter=self.params['n_iter'],\n",
    "            initial_expertdata=self.params['expert_data'],\n",
    "            collect_policy=self.rl_trainer.agent.actor,\n",
    "            eval_policy=self.rl_trainer.agent.actor,\n",
    "            relabel_with_expert=self.params['do_dagger'],\n",
    "            expert_policy=self.loaded_expert_policy,\n",
    "        )\n",
    "\n",
    "\n"
   ]
  },
  {
   "cell_type": "markdown",
   "id": "dff05534",
   "metadata": {},
   "source": [
    "# input of arguments"
   ]
  },
  {
   "cell_type": "code",
   "execution_count": null,
   "id": "b54ca429",
   "metadata": {},
   "outputs": [],
   "source": [
    "def main():\n",
    "    #######################################\n",
    "    # requied = True means must type in \n",
    "    #######################################\n",
    "    parser = argparse.ArgumentParser()\n",
    "    parser.add_argument('--expert_policy_file', '-epf', type=str, required=True)  # relative to where you're running this script from\n",
    "    parser.add_argument('--expert_data', '-ed', type=str, required=True) #relative to where you're running this script from\n",
    "    parser.add_argument('--env_name', '-env', type=str, help='choices: Ant-v2, Humanoid-v2, Walker-v2, HalfCheetah-v2, Hopper-v2', required=True)\n",
    "    parser.add_argument('--exp_name', '-exp', type=str, default='pick an experiment name', required=True)\n",
    "    \n",
    "    \n",
    "    \n",
    "    parser.add_argument('--do_dagger', action='store_true')\n",
    "    parser.add_argument('--ep_len', type=int)\n",
    "    parser.add_argument('--num_agent_train_steps_per_iter', type=int, default=1000)  # number of gradient steps for training policy (per iter in n_iter)\n",
    "    parser.add_argument('--n_iter', '-n', type=int, default=1)\n",
    "    parser.add_argument('--batch_size', type=int, default=1000)  # training data collected (in the env) during each iteration\n",
    "    parser.add_argument('--eval_batch_size', type=int,\n",
    "                        default=1000)  # eval data collected (in the env) for logging metrics\n",
    "    \n",
    "    args = parser.parse_args()\n",
    "\n",
    "    # convert args to dictionary\n",
    "    params = vars(args)\n",
    "    \n",
    "    # build a class of the project\n",
    "    trainer = BC_Trainer(params)\n",
    "    # execute the project or training\n",
    "    trainer.run_training_loop()\n",
    "    \n",
    "if __name__ == \"__main__\":\n",
    "    main()"
   ]
  },
  {
   "cell_type": "markdown",
   "id": "0745f8d8",
   "metadata": {},
   "source": [
    "# for example, you can make a run.sh and use following code in run.sh"
   ]
  },
  {
   "cell_type": "raw",
   "id": "f44b8c3f",
   "metadata": {},
   "source": [
    "source activate cs285\n",
    "python cs285/scripts/run_hw1.py \\\n",
    "--expert_policy_file cs285/policies/experts/Ant.pkl \\\n",
    "--env_name Ant-v2 \\\n",
    "--exp_name bc_ant \\\n",
    "--n_iter 1 \\\n",
    "--expert_data cs285/expert_data/expert_data_Ant-v2.pkl \\\n",
    "--ep_len 1000 \\\n",
    "--eval_batch_size 10000 \\\n",
    "--video_log_freq -1\n"
   ]
  }
 ],
 "metadata": {
  "kernelspec": {
   "display_name": "Python 3",
   "language": "python",
   "name": "python3"
  },
  "language_info": {
   "codemirror_mode": {
    "name": "ipython",
    "version": 3
   },
   "file_extension": ".py",
   "mimetype": "text/x-python",
   "name": "python",
   "nbconvert_exporter": "python",
   "pygments_lexer": "ipython3",
   "version": "3.8.5"
  }
 },
 "nbformat": 4,
 "nbformat_minor": 5
}
